{
 "cells": [
  {
   "cell_type": "code",
   "execution_count": 1,
   "metadata": {},
   "outputs": [],
   "source": [
    "from pydantic import BaseModel"
   ]
  },
  {
   "cell_type": "code",
   "execution_count": 4,
   "metadata": {},
   "outputs": [
    {
     "name": "stdout",
     "output_type": "stream",
     "text": [
      "Person(name='dasha', age=42, city='Royersford')\n"
     ]
    }
   ],
   "source": [
    "from dataclasses import dataclass\n",
    "\n",
    "@dataclass\n",
    "class Person():\n",
    "    name:str\n",
    "    age:int\n",
    "    city:str\n",
    "    \n",
    "    \n",
    "person=Person(name=\"dasha\",age=42,city=\"Royersford\")\n",
    "print(person)"
   ]
  },
  {
   "cell_type": "code",
   "execution_count": 5,
   "metadata": {},
   "outputs": [
    {
     "name": "stdout",
     "output_type": "stream",
     "text": [
      "Person(name='Krish', age=35, city=35)\n"
     ]
    }
   ],
   "source": [
    "person=Person(name=\"Krish\",age=35,city=35)\n",
    "print(person)"
   ]
  },
  {
   "cell_type": "markdown",
   "metadata": {},
   "source": [
    "Note: Here there is no validations happening .. city is tring but we have passed the integer value but didn't performed validations."
   ]
  },
  {
   "cell_type": "markdown",
   "metadata": {},
   "source": [
    "To overcome the above issue : applying `pydantic`"
   ]
  },
  {
   "cell_type": "code",
   "execution_count": 6,
   "metadata": {},
   "outputs": [
    {
     "name": "stdout",
     "output_type": "stream",
     "text": [
      "name='Dasha' age=35 city='Royersford'\n"
     ]
    }
   ],
   "source": [
    "class Person1(BaseModel):\n",
    "    name:str\n",
    "    age:int\n",
    "    city:str\n",
    "\n",
    "person=Person1(name=\"Dasha\",age=35,city=\"Royersford\")\n",
    "print(person)"
   ]
  },
  {
   "cell_type": "code",
   "execution_count": 7,
   "metadata": {},
   "outputs": [
    {
     "name": "stdout",
     "output_type": "stream",
     "text": [
      "name='Dasha' age=35 city='35'\n"
     ]
    }
   ],
   "source": [
    "person=Person1(name=\"Dasha\",age=35,city=35)\n",
    "print(person)"
   ]
  },
  {
   "cell_type": "code",
   "execution_count": 8,
   "metadata": {},
   "outputs": [
    {
     "name": "stdout",
     "output_type": "stream",
     "text": [
      "name='Krish' age=35 city='12'\n"
     ]
    }
   ],
   "source": [
    "person1=Person1(name=\"Krish\",age=35,city=12)\n",
    "print(person1)"
   ]
  },
  {
   "cell_type": "code",
   "execution_count": 9,
   "metadata": {},
   "outputs": [],
   "source": [
    "from typing import Optional\n",
    "\n",
    "class Employee(BaseModel):\n",
    "    id: int\n",
    "    name: str\n",
    "    department: str\n",
    "    salary: Optional[float] = None  # Optional with default value\n",
    "    is_active: Optional[bool] = True  # Optional with default True"
   ]
  },
  {
   "cell_type": "code",
   "execution_count": null,
   "metadata": {},
   "outputs": [],
   "source": [
    "# Examples with and without optional fields\n",
    "emp1 = Employee(id=1, name=\"John\", department=\"IT\")\n",
    "print(emp1)  # id=1 name='John' department='IT' salary=None is_active=True"
   ]
  }
 ],
 "metadata": {
  "kernelspec": {
   "display_name": "base",
   "language": "python",
   "name": "python3"
  },
  "language_info": {
   "codemirror_mode": {
    "name": "ipython",
    "version": 3
   },
   "file_extension": ".py",
   "mimetype": "text/x-python",
   "name": "python",
   "nbconvert_exporter": "python",
   "pygments_lexer": "ipython3",
   "version": "3.11.5"
  }
 },
 "nbformat": 4,
 "nbformat_minor": 2
}
