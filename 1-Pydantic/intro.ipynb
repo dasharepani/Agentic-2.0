{
 "cells": [
  {
   "cell_type": "code",
   "execution_count": 1,
   "metadata": {},
   "outputs": [],
   "source": [
    "from pydantic import BaseModel"
   ]
  },
  {
   "cell_type": "code",
   "execution_count": 4,
   "metadata": {},
   "outputs": [
    {
     "name": "stdout",
     "output_type": "stream",
     "text": [
      "Person(name='dasha', age=42, city='Royersford')\n"
     ]
    }
   ],
   "source": [
    "from dataclasses import dataclass\n",
    "\n",
    "@dataclass\n",
    "class Person():\n",
    "    name:str\n",
    "    age:int\n",
    "    city:str\n",
    "    \n",
    "    \n",
    "person=Person(name=\"dasha\",age=42,city=\"Royersford\")\n",
    "print(person)"
   ]
  },
  {
   "cell_type": "code",
   "execution_count": 5,
   "metadata": {},
   "outputs": [
    {
     "name": "stdout",
     "output_type": "stream",
     "text": [
      "Person(name='Krish', age=35, city=35)\n"
     ]
    }
   ],
   "source": [
    "person=Person(name=\"Krish\",age=35,city=35)\n",
    "print(person)"
   ]
  },
  {
   "cell_type": "markdown",
   "metadata": {},
   "source": [
    "Note: Here there is no validations happening .. city is tring but we have passed the integer value but didn't performed validations."
   ]
  },
  {
   "cell_type": "markdown",
   "metadata": {},
   "source": [
    "To overcome the above issue : applying `pydantic`"
   ]
  },
  {
   "cell_type": "code",
   "execution_count": 6,
   "metadata": {},
   "outputs": [
    {
     "name": "stdout",
     "output_type": "stream",
     "text": [
      "name='Dasha' age=35 city='Royersford'\n"
     ]
    }
   ],
   "source": [
    "class Person1(BaseModel):\n",
    "    name:str\n",
    "    age:int\n",
    "    city:str\n",
    "\n",
    "person=Person1(name=\"Dasha\",age=35,city=\"Royersford\")\n",
    "print(person)"
   ]
  },
  {
   "cell_type": "code",
   "execution_count": 7,
   "metadata": {},
   "outputs": [
    {
     "name": "stdout",
     "output_type": "stream",
     "text": [
      "name='Dasha' age=35 city='35'\n"
     ]
    }
   ],
   "source": [
    "person=Person1(name=\"Dasha\",age=35,city=35)\n",
    "print(person)"
   ]
  },
  {
   "cell_type": "code",
   "execution_count": 8,
   "metadata": {},
   "outputs": [
    {
     "name": "stdout",
     "output_type": "stream",
     "text": [
      "name='Krish' age=35 city='12'\n"
     ]
    }
   ],
   "source": [
    "person1=Person1(name=\"Krish\",age=35,city=12)\n",
    "print(person1)"
   ]
  },
  {
   "cell_type": "code",
   "execution_count": 9,
   "metadata": {},
   "outputs": [],
   "source": [
    "from typing import Optional\n",
    "\n",
    "class Employee(BaseModel):\n",
    "    id: int\n",
    "    name: str\n",
    "    department: str\n",
    "    salary: Optional[float] = None  # Optional with default value\n",
    "    is_active: Optional[bool] = True  # Optional with default True"
   ]
  },
  {
   "cell_type": "code",
   "execution_count": 10,
   "metadata": {},
   "outputs": [
    {
     "name": "stdout",
     "output_type": "stream",
     "text": [
      "id=1 name='John' department='IT' salary=None is_active=True\n"
     ]
    }
   ],
   "source": [
    "# Examples with and without optional fields\n",
    "emp1 = Employee(id=1, name=\"John\", department=\"IT\")\n",
    "print(emp1)  # id=1 name='John' department='IT' salary=None is_active=True"
   ]
  },
  {
   "cell_type": "code",
   "execution_count": 11,
   "metadata": {},
   "outputs": [
    {
     "name": "stdout",
     "output_type": "stream",
     "text": [
      "id=2 name='Jane' department='HR' salary=60000.0 is_active=False\n"
     ]
    }
   ],
   "source": [
    "emp2 = Employee(id=2, name=\"Jane\", department=\"HR\", salary=60000, is_active=False)\n",
    "print(emp2)"
   ]
  },
  {
   "cell_type": "code",
   "execution_count": 12,
   "metadata": {},
   "outputs": [],
   "source": [
    "from pydantic import BaseModel\n",
    "from typing import List\n",
    "\n",
    "class Classroom(BaseModel):\n",
    "    room_number: str\n",
    "    students: List[str]  # List of strings\n",
    "    capacity: int"
   ]
  },
  {
   "cell_type": "code",
   "execution_count": 13,
   "metadata": {},
   "outputs": [
    {
     "name": "stdout",
     "output_type": "stream",
     "text": [
      "room_number='A101' students=['Alice', 'Bob', 'Charlie'] capacity=30\n"
     ]
    }
   ],
   "source": [
    "# Create a classroom\n",
    "classroom = Classroom(\n",
    "    room_number=\"A101\",\n",
    "    students=(\"Alice\", \"Bob\", \"Charlie\"),\n",
    "    capacity=30\n",
    ")\n",
    "print(classroom)"
   ]
  },
  {
   "cell_type": "code",
   "execution_count": 14,
   "metadata": {},
   "outputs": [],
   "source": [
    "try:\n",
    "    invalid_val=Classroom(room_number=\"A1\",students=[\"Krish\",123],capacity=30)\n",
    "except ValueError as e:\n",
    "    print(e)"
   ]
  },
  {
   "cell_type": "code",
   "execution_count": 15,
   "metadata": {},
   "outputs": [
    {
     "name": "stdout",
     "output_type": "stream",
     "text": [
      "customer_id=1 name='Emma' address=Address(street='123 Main St', city='Boston', zip_code=2108)\n"
     ]
    }
   ],
   "source": [
    "from pydantic import BaseModel\n",
    "\n",
    "class Address(BaseModel):\n",
    "    street: str\n",
    "    city: str\n",
    "    zip_code: int\n",
    "\n",
    "class Customer(BaseModel):\n",
    "    customer_id: int\n",
    "    name: str\n",
    "    address: Address  # Nested model\n",
    "\n",
    "# Create a customer with nested address\n",
    "customer = Customer(\n",
    "    customer_id=1,\n",
    "    name=\"Emma\",\n",
    "    address={\"street\": \"123 Main St\", \"city\": \"Boston\", \"zip_code\": \"02108\"}\n",
    ")\n",
    "print(customer)"
   ]
  },
  {
   "cell_type": "code",
   "execution_count": 16,
   "metadata": {},
   "outputs": [
    {
     "name": "stdout",
     "output_type": "stream",
     "text": [
      "name='Book' price=10.0 quantity=10\n"
     ]
    }
   ],
   "source": [
    "from pydantic import BaseModel,Field\n",
    "class Item(BaseModel):\n",
    "    name:str=Field(min_length=2,max_length=50)\n",
    "    price:float= Field(gt=0,le=1000) #greater than 0, less than or equal to 1000\n",
    "    quantity:int=Field(ge=0)\n",
    "\n",
    "# Valid instance\n",
    "item = Item(name=\"Book\", price=10, quantity=10)\n",
    "\n",
    "print(item)\n"
   ]
  },
  {
   "cell_type": "code",
   "execution_count": 17,
   "metadata": {},
   "outputs": [
    {
     "name": "stdout",
     "output_type": "stream",
     "text": [
      "username='alice' age=18 email='user@example.com'\n",
      "username='bob' age=25 email='bob@domain.com'\n"
     ]
    }
   ],
   "source": [
    "from pydantic import BaseModel, Field\n",
    "\n",
    "class User(BaseModel):\n",
    "    username: str = Field(..., description=\"Unique username for the user\")\n",
    "    age: int = Field(default=18, description=\"User age, defaults to 18\")\n",
    "    email: str = Field(default_factory=lambda: \"user@example.com\", description=\"Default email address\")\n",
    "\n",
    "# Examples\n",
    "user1 = User(username=\"alice\")\n",
    "print(user1)  # username='alice' age=18 email='user@example.com'\n",
    "\n",
    "user2 = User(username=\"bob\", age=25, email=\"bob@domain.com\")\n",
    "print(user2)  # username='bob' age=25 email='bob@domain.com'"
   ]
  },
  {
   "cell_type": "code",
   "execution_count": 19,
   "metadata": {},
   "outputs": [
    {
     "ename": "AttributeError",
     "evalue": "type object 'User' has no attribute 'model_json_schema'",
     "output_type": "error",
     "traceback": [
      "\u001b[0;31m---------------------------------------------------------------------------\u001b[0m",
      "\u001b[0;31mAttributeError\u001b[0m                            Traceback (most recent call last)",
      "Cell \u001b[0;32mIn[19], line 1\u001b[0m\n\u001b[0;32m----> 1\u001b[0m \u001b[38;5;28mprint\u001b[39m(User\u001b[38;5;241m.\u001b[39mmodel_json_schema())\n",
      "\u001b[0;31mAttributeError\u001b[0m: type object 'User' has no attribute 'model_json_schema'"
     ]
    }
   ],
   "source": [
    "print(User.model_json_schema())"
   ]
  }
 ],
 "metadata": {
  "kernelspec": {
   "display_name": "base",
   "language": "python",
   "name": "python3"
  },
  "language_info": {
   "codemirror_mode": {
    "name": "ipython",
    "version": 3
   },
   "file_extension": ".py",
   "mimetype": "text/x-python",
   "name": "python",
   "nbconvert_exporter": "python",
   "pygments_lexer": "ipython3",
   "version": "3.11.5"
  }
 },
 "nbformat": 4,
 "nbformat_minor": 2
}
